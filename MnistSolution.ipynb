{
 "cells": [
  {
   "cell_type": "markdown",
   "metadata": {
    "collapsed": true
   },
   "source": [
    "# Introdução a Machine Learning \n",
    "\n",
    "## MNIST Dataset \n",
    "\n",
    "### Pedro Neto e Rafael Santos, ISEP 2019"
   ]
  },
  {
   "cell_type": "markdown",
   "metadata": {},
   "source": [
    "### Tarefa 1 - Importar dataset\n",
    "\n",
    "O dataset a ser utilizado faz parte dos muitos disponibilizados pelo Sckit-learn. A tarefa consiste em importa-lo. "
   ]
  },
  {
   "cell_type": "code",
   "execution_count": 43,
   "metadata": {},
   "outputs": [
    {
     "data": {
      "image/png": "[encoded data removed]",
      "text/plain": [
       "<Figure size 432x288 with 1 Axes>"
      ]
     },
     "metadata": {},
     "output_type": "display_data"
    },
    {
     "data": {
      "image/png": "[encoded data removed]",
      "text/plain": [
       "<Figure size 432x288 with 1 Axes>"
      ]
     },
     "metadata": {},
     "output_type": "display_data"
    },
    {
     "data": {
      "image/png": "[encoded data removed]",
      "text/plain": [
       "<Figure size 432x288 with 1 Axes>"
      ]
     },
     "metadata": {},
     "output_type": "display_data"
    },
    {
     "data": {
      "image/png": "[encoded data removed]",
      "text/plain": [
       "<Figure size 432x288 with 1 Axes>"
      ]
     },
     "metadata": {},
     "output_type": "display_data"
    }
   ],
   "source": [
    "from sklearn import datasets\n",
    "import numpy as np\n",
    "import matplotlib.pyplot as plt\n",
    "import numpy \n",
    "\n",
    "digits = datasets.load_digits()\n",
    "    \n",
    "images = list(zip(digits.images, digits.target))\n",
    "for index, (image, label) in enumerate(images[:4]):\n",
    "    plt.subplot(2, 4, index + 1)\n",
    "    plt.axis('off')\n",
    "    plt.imshow(image, cmap=plt.cm.gray_r,interpolation=\"nearest\")\n",
    "    plt.title('Sample: %i' % label)\n",
    "    plt.show()"
   ]
  },
  {
   "cell_type": "markdown",
   "metadata": {},
   "source": [
    "### Tarefa 2 - Converter as imagens\n",
    "\n",
    "Aqui o objetivo é converter as imagens num array de features. Cada imagem é 8x8, então teremos 64 features para cada imagem.\n",
    "No fim obteremos uma matrix (MxN) sendo M o numero de imagens e N o numero de features."
   ]
  },
  {
   "cell_type": "code",
   "execution_count": 7,
   "metadata": {},
   "outputs": [
    {
     "name": "stdout",
     "output_type": "stream",
     "text": [
      "[ 0.  0.  5. 13.  9.  1.  0.  0.  0.  0. 13. 15. 10. 15.  5.  0.  0.  3.\n",
      " 15.  2.  0. 11.  8.  0.  0.  4. 12.  0.  0.  8.  8.  0.  0.  5.  8.  0.\n",
      "  0.  9.  8.  0.  0.  4. 11.  0.  1. 12.  7.  0.  0.  2. 14.  5. 10. 12.\n",
      "  0.  0.  0.  0.  6. 13. 10.  0.  0.  0.]\n"
     ]
    }
   ],
   "source": [
    "n_samples = len(digits.images)\n",
    "dataset = digits.images.reshape((n_samples, -1))\n",
    "y = digits.target\n",
    "print(dataset[0,:])"
   ]
  },
  {
   "cell_type": "code",
   "execution_count": 8,
   "metadata": {},
   "outputs": [
    {
     "data": {
      "image/png": "[encoded data removed]",
      "text/plain": [
       "<Figure size 432x288 with 1 Axes>"
      ]
     },
     "metadata": {},
     "output_type": "display_data"
    }
   ],
   "source": [
    "# Extra\n",
    "def plot_digits(instances, images_per_row=10, **options):\n",
    "    size = 8\n",
    "    images_per_row = min(len(instances), images_per_row)\n",
    "    images = [instance.reshape(size,size) for instance in instances]\n",
    "    n_rows = (len(instances) - 1) // images_per_row + 1\n",
    "    row_images = []\n",
    "    n_empty = n_rows * images_per_row - len(instances)\n",
    "    images.append(np.zeros((size, size * n_empty)))\n",
    "    for row in range(n_rows):\n",
    "        rimages = images[row * images_per_row : (row + 1) * images_per_row]\n",
    "        row_images.append(np.concatenate(rimages, axis=1))\n",
    "    image = np.concatenate(row_images, axis=0)\n",
    "    plt.imshow(image, cmap = plt.cm.binary, **options)\n",
    "    plt.axis(\"off\")\n",
    "\n",
    "plot_digits(dataset[:40],10)"
   ]
  },
  {
   "cell_type": "markdown",
   "metadata": {},
   "source": [
    "### Tarefa 3 - Dividir o dataset \n",
    "\n",
    "O dataset deve ser dividido em 2 partes, uma primeira com a qual iremos treinar o nosso modelo, e uma segunda com a qual iremos verificar e avaliar o nosso modelo.\n",
    "\n",
    "Obs: Os ratios sugeridos são de 80% para a primeira parte e 20% para a segunda, mas sintam-se livres para experimentar outros ratios. "
   ]
  },
  {
   "cell_type": "code",
   "execution_count": 9,
   "metadata": {},
   "outputs": [],
   "source": [
    "ratio = 0.8\n",
    "size = len(dataset[:,0])\n",
    "limit = int(ratio * size)\n",
    "train_set = dataset[0:limit,:]\n",
    "y_train = y[0:limit]\n",
    "test_set = dataset[limit:size,:]\n",
    "y_test = y[limit:size]"
   ]
  },
  {
   "cell_type": "markdown",
   "metadata": {},
   "source": [
    "### Tarefa 4 - Classificador Binário\n",
    "\n",
    "Neste bloco a tarefa passa por utilizar um algoritmo qeu verifique se um determinado número representa um 3 ou não. Trata-se de um classificador binário pois existem apenas duas classes. Para efetuar a classificação, vamos utilizar a classe SGDClassifier do package Scikit-learn. "
   ]
  },
  {
   "cell_type": "code",
   "execution_count": 10,
   "metadata": {},
   "outputs": [
    {
     "name": "stderr",
     "output_type": "stream",
     "text": [
      "/Users/pedroneto/Desktop/workshop/venv/lib/python3.7/site-packages/sklearn/linear_model/stochastic_gradient.py:166: FutureWarning: max_iter and tol parameters have been added in SGDClassifier in 0.19. If both are left unset, they default to max_iter=5 and tol=None. If tol is not None, max_iter defaults to max_iter=1000. From 0.21, default max_iter will be 1000, and default tol will be 1e-3.\n",
      "  FutureWarning)\n"
     ]
    },
    {
     "data": {
      "text/plain": [
       "SGDClassifier(alpha=0.0001, average=False, class_weight=None,\n",
       "       early_stopping=False, epsilon=0.1, eta0=0.0, fit_intercept=True,\n",
       "       l1_ratio=0.15, learning_rate='optimal', loss='hinge', max_iter=None,\n",
       "       n_iter=None, n_iter_no_change=5, n_jobs=None, penalty='l2',\n",
       "       power_t=0.5, random_state=None, shuffle=True, tol=None,\n",
       "       validation_fraction=0.1, verbose=0, warm_start=False)"
      ]
     },
     "execution_count": 10,
     "metadata": {},
     "output_type": "execute_result"
    }
   ],
   "source": [
    "from sklearn import linear_model\n",
    "y_train_3 = (y_train == 3)\n",
    "y_test_3 = (y_test == 3)\n",
    "\n",
    "binary_classifier = linear_model.SGDClassifier()\n",
    "binary_classifier.fit(train_set,y_train_3)"
   ]
  },
  {
   "cell_type": "markdown",
   "metadata": {},
   "source": [
    "### Tarefa 5 - Métricas de avaliação \n",
    "\n",
    "Para avaliar o nosso modelo vamos utilizar os valores de cross validation, de precisão, de recall e analizar a matriz de confusão. "
   ]
  },
  {
   "cell_type": "code",
   "execution_count": 11,
   "metadata": {},
   "outputs": [
    {
     "name": "stderr",
     "output_type": "stream",
     "text": [
      "/Users/pedroneto/Desktop/workshop/venv/lib/python3.7/site-packages/sklearn/linear_model/stochastic_gradient.py:166: FutureWarning: max_iter and tol parameters have been added in SGDClassifier in 0.19. If both are left unset, they default to max_iter=5 and tol=None. If tol is not None, max_iter defaults to max_iter=1000. From 0.21, default max_iter will be 1000, and default tol will be 1e-3.\n",
      "  FutureWarning)\n",
      "/Users/pedroneto/Desktop/workshop/venv/lib/python3.7/site-packages/sklearn/linear_model/stochastic_gradient.py:166: FutureWarning: max_iter and tol parameters have been added in SGDClassifier in 0.19. If both are left unset, they default to max_iter=5 and tol=None. If tol is not None, max_iter defaults to max_iter=1000. From 0.21, default max_iter will be 1000, and default tol will be 1e-3.\n",
      "  FutureWarning)\n",
      "/Users/pedroneto/Desktop/workshop/venv/lib/python3.7/site-packages/sklearn/linear_model/stochastic_gradient.py:166: FutureWarning: max_iter and tol parameters have been added in SGDClassifier in 0.19. If both are left unset, they default to max_iter=5 and tol=None. If tol is not None, max_iter defaults to max_iter=1000. From 0.21, default max_iter will be 1000, and default tol will be 1e-3.\n",
      "  FutureWarning)\n"
     ]
    },
    {
     "data": {
      "text/plain": [
       "array([0.98541667, 0.97286013, 0.98953975])"
      ]
     },
     "execution_count": 11,
     "metadata": {},
     "output_type": "execute_result"
    }
   ],
   "source": [
    "from sklearn.model_selection import cross_val_score,cross_val_predict\n",
    "cross_val_score(binary_classifier, train_set, y_train_3, cv=3, scoring=\"accuracy\")"
   ]
  },
  {
   "cell_type": "code",
   "execution_count": 12,
   "metadata": {},
   "outputs": [
    {
     "name": "stdout",
     "output_type": "stream",
     "text": [
      "Confusion Matrix [[1236   55]\n",
      " [   6  140]]\n"
     ]
    },
    {
     "name": "stderr",
     "output_type": "stream",
     "text": [
      "/Users/pedroneto/Desktop/workshop/venv/lib/python3.7/site-packages/sklearn/linear_model/stochastic_gradient.py:166: FutureWarning: max_iter and tol parameters have been added in SGDClassifier in 0.19. If both are left unset, they default to max_iter=5 and tol=None. If tol is not None, max_iter defaults to max_iter=1000. From 0.21, default max_iter will be 1000, and default tol will be 1e-3.\n",
      "  FutureWarning)\n",
      "/Users/pedroneto/Desktop/workshop/venv/lib/python3.7/site-packages/sklearn/linear_model/stochastic_gradient.py:166: FutureWarning: max_iter and tol parameters have been added in SGDClassifier in 0.19. If both are left unset, they default to max_iter=5 and tol=None. If tol is not None, max_iter defaults to max_iter=1000. From 0.21, default max_iter will be 1000, and default tol will be 1e-3.\n",
      "  FutureWarning)\n",
      "/Users/pedroneto/Desktop/workshop/venv/lib/python3.7/site-packages/sklearn/linear_model/stochastic_gradient.py:166: FutureWarning: max_iter and tol parameters have been added in SGDClassifier in 0.19. If both are left unset, they default to max_iter=5 and tol=None. If tol is not None, max_iter defaults to max_iter=1000. From 0.21, default max_iter will be 1000, and default tol will be 1e-3.\n",
      "  FutureWarning)\n"
     ]
    },
    {
     "data": {
      "image/png": "[encoded data removed]",
      "text/plain": [
       "<Figure size 288x288 with 1 Axes>"
      ]
     },
     "metadata": {},
     "output_type": "display_data"
    }
   ],
   "source": [
    "from sklearn.metrics import confusion_matrix\n",
    "y_train_pred_3 = cross_val_predict(binary_classifier, train_set, y_train_3, cv=3)\n",
    "cnf_matrix = confusion_matrix(y_train_3, y_train_pred_3)\n",
    "print(\"Confusion Matrix\",cnf_matrix)\n",
    "plt.matshow(cnf_matrix)\n",
    "plt.show()"
   ]
  },
  {
   "cell_type": "code",
   "execution_count": 13,
   "metadata": {},
   "outputs": [
    {
     "name": "stdout",
     "output_type": "stream",
     "text": [
      "Precision =  0.717948717948718\n",
      "Recall =  0.958904109589041\n",
      "F1 =  0.8211143695014662\n"
     ]
    }
   ],
   "source": [
    "from sklearn.metrics import precision_score,f1_score,recall_score\n",
    "print(\"Precision = \",precision_score(y_train_3, y_train_pred_3))\n",
    "\n",
    "print(\"Recall = \",recall_score(y_train_3, y_train_pred_3))\n",
    "\n",
    "print(\"F1 = \",f1_score(y_train_3, y_train_pred_3))"
   ]
  },
  {
   "cell_type": "markdown",
   "metadata": {},
   "source": [
    "### Tarefa 6 - Decision tree\n",
    "\n",
    "De forma a termos dois modelos para poder comparar, vamos repetir o processo, mas desta vez num DecisionTreeClassifier. \n",
    "Os modelos de Precisão, Recall e F1 serão os nossos pontos de comparação."
   ]
  },
  {
   "cell_type": "code",
   "execution_count": 14,
   "metadata": {},
   "outputs": [
    {
     "name": "stdout",
     "output_type": "stream",
     "text": [
      "Confusion Matrix \n",
      " [[1260   31]\n",
      " [  36  110]]\n"
     ]
    },
    {
     "data": {
      "image/png": "[encoded data removed]",
      "text/plain": [
       "<Figure size 288x288 with 1 Axes>"
      ]
     },
     "metadata": {},
     "output_type": "display_data"
    },
    {
     "name": "stdout",
     "output_type": "stream",
     "text": [
      "Precision =  0.7801418439716312\n",
      "Recall =  0.7534246575342466\n",
      "F1 =  0.7665505226480838\n"
     ]
    }
   ],
   "source": [
    "from sklearn.tree import DecisionTreeClassifier\n",
    "\n",
    "binary_classifier = DecisionTreeClassifier()\n",
    "binary_classifier.fit(train_set,y_train_3)\n",
    "\n",
    "y_train_pred_3 = cross_val_predict(binary_classifier, train_set, y_train_3, cv=3)\n",
    "cnf_matrix = confusion_matrix(y_train_3, y_train_pred_3)\n",
    "print(\"Confusion Matrix \\n\",cnf_matrix)\n",
    "plt.matshow(cnf_matrix)\n",
    "plt.show()\n",
    "\n",
    "print(\"Precision = \",precision_score(y_train_3, y_train_pred_3))\n",
    "\n",
    "print(\"Recall = \",recall_score(y_train_3, y_train_pred_3))\n",
    "\n",
    "print(\"F1 = \",f1_score(y_train_3, y_train_pred_3))\n",
    "\n"
   ]
  },
  {
   "cell_type": "markdown",
   "metadata": {},
   "source": [
    "### Tarefa 6 - Classificação Multiclasse\n",
    "\n",
    "Agora vamos tentar classificar cada imagem no seu respetivo digito. Para isso vamos utilizar classificadores ligeiramente mais complexos como uma rede neural e uma random forest. Estes classificadores precisão de um controlo maior sobre os seus parametros. Desta forma é utilizada um GridSearch para procurar a melhor combinação destes parametros. "
   ]
  },
  {
   "cell_type": "code",
   "execution_count": 15,
   "metadata": {},
   "outputs": [],
   "source": [
    "from sklearn.neural_network import MLPClassifier\n",
    "from sklearn.ensemble import RandomForestClassifier\n",
    "from sklearn.model_selection import GridSearchCV"
   ]
  },
  {
   "cell_type": "markdown",
   "metadata": {},
   "source": [
    "#### Neural Network"
   ]
  },
  {
   "cell_type": "code",
   "execution_count": 33,
   "metadata": {},
   "outputs": [],
   "source": [
    "grid_params = [{\n",
    "                 'learning_rate': [\"invscaling\"],\n",
    "                 'learning_rate_init': [0.1],\n",
    "                 'alpha': [0.01,0.0014],\n",
    "                 'activation': [\"relu\"],\n",
    "                 'max_iter': [10000],\n",
    "                 'solver': [\"lbfgs\"],\n",
    "                 \"hidden_layer_sizes\": [(100,)]\n",
    "             }]\n",
    "nn_classifier = MLPClassifier()\n",
    "grid_search_neuralnet = GridSearchCV(estimator=nn_classifier,param_grid=grid_params,cv=3,scoring=\"accuracy\")"
   ]
  },
  {
   "cell_type": "code",
   "execution_count": 34,
   "metadata": {},
   "outputs": [
    {
     "name": "stderr",
     "output_type": "stream",
     "text": [
      "/Users/pedroneto/Desktop/workshop/venv/lib/python3.7/site-packages/sklearn/model_selection/_search.py:841: DeprecationWarning: The default of the `iid` parameter will change from True to False in version 0.22 and will be removed in 0.24. This will change numeric results when test-set sizes are unequal.\n",
      "  DeprecationWarning)\n"
     ]
    },
    {
     "name": "stdout",
     "output_type": "stream",
     "text": [
      "MLPClassifier(activation='relu', alpha=0.0014, batch_size='auto', beta_1=0.9,\n",
      "       beta_2=0.999, early_stopping=False, epsilon=1e-08,\n",
      "       hidden_layer_sizes=(100,), learning_rate='invscaling',\n",
      "       learning_rate_init=0.1, max_iter=10000, momentum=0.9,\n",
      "       n_iter_no_change=10, nesterovs_momentum=True, power_t=0.5,\n",
      "       random_state=None, shuffle=True, solver='lbfgs', tol=0.0001,\n",
      "       validation_fraction=0.1, verbose=False, warm_start=False)\n",
      "0.9464161447459986\n"
     ]
    }
   ],
   "source": [
    "grid_search_neuralnet.fit(train_set,y_train)\n",
    "print(grid_search_neuralnet.best_estimator_)\n",
    "print(grid_search_neuralnet.best_score_)"
   ]
  },
  {
   "cell_type": "markdown",
   "metadata": {},
   "source": [
    "#### Random Forest"
   ]
  },
  {
   "cell_type": "code",
   "execution_count": 35,
   "metadata": {},
   "outputs": [],
   "source": [
    "grid_params = [{\"n_estimators\": [100,200,300,400],\"criterion\" : [\"gini\",\"entropy\"],\"min_samples_split\":[5,10]}]\n",
    "random_forest = RandomForestClassifier()\n",
    "grid_search_forest = GridSearchCV(estimator=random_forest,param_grid=grid_params,cv=3,scoring=\"accuracy\")"
   ]
  },
  {
   "cell_type": "code",
   "execution_count": 36,
   "metadata": {},
   "outputs": [
    {
     "name": "stdout",
     "output_type": "stream",
     "text": [
      "RandomForestClassifier(bootstrap=True, class_weight=None, criterion='entropy',\n",
      "            max_depth=None, max_features='auto', max_leaf_nodes=None,\n",
      "            min_impurity_decrease=0.0, min_impurity_split=None,\n",
      "            min_samples_leaf=1, min_samples_split=5,\n",
      "            min_weight_fraction_leaf=0.0, n_estimators=200, n_jobs=None,\n",
      "            oob_score=False, random_state=None, verbose=0,\n",
      "            warm_start=False)\n",
      "0.9255393180236604\n"
     ]
    }
   ],
   "source": [
    "grid_search_forest.fit(train_set,y_train)\n",
    "print(grid_search_forest.best_estimator_)\n",
    "print(grid_search_forest.best_score_)"
   ]
  },
  {
   "cell_type": "code",
   "execution_count": 39,
   "metadata": {},
   "outputs": [
    {
     "name": "stdout",
     "output_type": "stream",
     "text": [
      "Test Precision NN =  0.9111111111111111\n",
      "Test Precision Random Forest =  0.9194444444444444\n"
     ]
    }
   ],
   "source": [
    "from sklearn.metrics import accuracy_score\n",
    "y_predNN = grid_search_neuralnet.predict(test_set)\n",
    "y_predRandom = grid_search_forest.predict(test_set)\n",
    "\n",
    "print(\"Test Precision NN = \", accuracy_score(y_predNN, y_test) )\n",
    "print(\"Test Precision Random Forest = \", accuracy_score(y_predRandom, y_test))"
   ]
  },
  {
   "cell_type": "code",
   "execution_count": 42,
   "metadata": {},
   "outputs": [
    {
     "data": {
      "image/png": "[encoded data removed]",
      "text/plain": [
       "<Figure size 288x288 with 1 Axes>"
      ]
     },
     "metadata": {},
     "output_type": "display_data"
    }
   ],
   "source": [
    "plt.matshow( confusion_matrix(y_test,y_predRandom))\n",
    "plt.show()"
   ]
  },
  {
   "cell_type": "code",
   "execution_count": null,
   "metadata": {},
   "outputs": [],
   "source": []
  }
 ],
 "metadata": {
  "kernelspec": {
   "display_name": "Python 3",
   "language": "python",
   "name": "python3"
  },
  "language_info": {
   "codemirror_mode": {
    "name": "ipython",
    "version": 3
   },
   "file_extension": ".py",
   "mimetype": "text/x-python",
   "name": "python",
   "nbconvert_exporter": "python",
   "pygments_lexer": "ipython3",
   "version": "3.7.1"
  }
 },
 "nbformat": 4,
 "nbformat_minor": 1
}
